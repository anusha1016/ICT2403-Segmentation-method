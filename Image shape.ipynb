{
 "cells": [
  {
   "cell_type": "code",
   "execution_count": 1,
   "id": "5598762e-f220-4b64-b318-98231adb5212",
   "metadata": {},
   "outputs": [
    {
     "name": "stdout",
     "output_type": "stream",
     "text": [
      "height X width X channels :  2233 X 1921 X 3\n",
      "Image shape :  (2233, 1921, 3)\n",
      "Datatype:  uint8\n"
     ]
    }
   ],
   "source": [
    "import cv2\n",
    "import numpy as np\n",
    "\n",
    "# Load image\n",
    "image = cv2.imread('01.jpg')\n",
    "height, width, channels = image.shape \n",
    "print (\"height X width X channels : \", height, \"X\", width, \"X\", channels) \n",
    "print (\"Image shape : \", image.shape) \n",
    "print (\"Datatype: \", image.dtype) \n",
    "cv2.imshow('image',image)\n",
    "cv2.waitKey(0)\n",
    "cv2.destroyAllWindows()"
   ]
  },
  {
   "cell_type": "code",
   "execution_count": 2,
   "id": "de315229-f6c4-4e8e-9eb7-db0777644738",
   "metadata": {},
   "outputs": [
    {
     "name": "stdout",
     "output_type": "stream",
     "text": [
      "height X width X channels :  2232 X 1921 X 3\n",
      "Image shape :  (2232, 1921, 3)\n",
      "Datatype:  uint8\n"
     ]
    }
   ],
   "source": [
    "import cv2\n",
    "import numpy as np\n",
    "\n",
    "# Load image\n",
    "image = cv2.imread('2.jpg')\n",
    "height, width, channels = image.shape \n",
    "print (\"height X width X channels : \", height, \"X\", width, \"X\", channels) \n",
    "print (\"Image shape : \", image.shape) \n",
    "print (\"Datatype: \", image.dtype) \n",
    "cv2.imshow('image',image)\n",
    "cv2.waitKey(0)\n",
    "cv2.destroyAllWindows()"
   ]
  },
  {
   "cell_type": "code",
   "execution_count": 3,
   "id": "b5b3d248-1f68-4a5a-be69-c3078d09b5ff",
   "metadata": {},
   "outputs": [
    {
     "name": "stdout",
     "output_type": "stream",
     "text": [
      "height X width X channels :  2235 X 1921 X 3\n",
      "Image shape :  (2235, 1921, 3)\n",
      "Datatype:  uint8\n"
     ]
    }
   ],
   "source": [
    "import cv2\n",
    "import numpy as np\n",
    "\n",
    "# Load image\n",
    "image = cv2.imread('3.jpg')\n",
    "height, width, channels = image.shape \n",
    "print (\"height X width X channels : \", height, \"X\", width, \"X\", channels) \n",
    "print (\"Image shape : \", image.shape) \n",
    "print (\"Datatype: \", image.dtype) \n",
    "cv2.imshow('image',image)\n",
    "cv2.waitKey(0)\n",
    "cv2.destroyAllWindows()"
   ]
  },
  {
   "cell_type": "code",
   "execution_count": 4,
   "id": "e94fe1ed-8d34-40bb-9e5d-3d487d6b8d1e",
   "metadata": {},
   "outputs": [
    {
     "name": "stdout",
     "output_type": "stream",
     "text": [
      "height X width X channels :  2235 X 1921 X 3\n",
      "Image shape :  (2235, 1921, 3)\n",
      "Datatype:  uint8\n"
     ]
    }
   ],
   "source": [
    "import cv2\n",
    "import numpy as np\n",
    "\n",
    "# Load image\n",
    "image = cv2.imread('4.jpg')\n",
    "height, width, channels = image.shape \n",
    "print (\"height X width X channels : \", height, \"X\", width, \"X\", channels) \n",
    "print (\"Image shape : \", image.shape) \n",
    "print (\"Datatype: \", image.dtype) \n",
    "cv2.imshow('image',image)\n",
    "cv2.waitKey(0)\n",
    "cv2.destroyAllWindows()"
   ]
  },
  {
   "cell_type": "code",
   "execution_count": 5,
   "id": "2a31dcf3-07ef-4b39-b564-062169636f7c",
   "metadata": {},
   "outputs": [
    {
     "name": "stdout",
     "output_type": "stream",
     "text": [
      "height X width X channels :  2231 X 1921 X 3\n",
      "Image shape :  (2231, 1921, 3)\n",
      "Datatype:  uint8\n"
     ]
    }
   ],
   "source": [
    "import cv2\n",
    "import numpy as np\n",
    "\n",
    "# Load image\n",
    "image = cv2.imread('5.jpg')\n",
    "height, width, channels = image.shape \n",
    "print (\"height X width X channels : \", height, \"X\", width, \"X\", channels) \n",
    "print (\"Image shape : \", image.shape) \n",
    "print (\"Datatype: \", image.dtype) \n",
    "cv2.imshow('image',image)\n",
    "cv2.waitKey(0)\n",
    "cv2.destroyAllWindows()"
   ]
  },
  {
   "cell_type": "code",
   "execution_count": 6,
   "id": "22c88a71-9446-4e52-9d1d-de0d1322c4d1",
   "metadata": {},
   "outputs": [
    {
     "name": "stdout",
     "output_type": "stream",
     "text": [
      "height X width X channels :  2232 X 1921 X 3\n",
      "Image shape :  (2232, 1921, 3)\n",
      "Datatype:  uint8\n"
     ]
    }
   ],
   "source": [
    "import cv2\n",
    "import numpy as np\n",
    "\n",
    "# Load image\n",
    "image = cv2.imread('6.jpg')\n",
    "height, width, channels = image.shape \n",
    "print (\"height X width X channels : \", height, \"X\", width, \"X\", channels) \n",
    "print (\"Image shape : \", image.shape) \n",
    "print (\"Datatype: \", image.dtype) \n",
    "cv2.imshow('image',image)\n",
    "cv2.waitKey(0)\n",
    "cv2.destroyAllWindows()"
   ]
  },
  {
   "cell_type": "code",
   "execution_count": 7,
   "id": "17029ece-4dfd-4b58-8818-68f166ac631f",
   "metadata": {},
   "outputs": [
    {
     "name": "stdout",
     "output_type": "stream",
     "text": [
      "height X width X channels :  2231 X 1921 X 3\n",
      "Image shape :  (2231, 1921, 3)\n",
      "Datatype:  uint8\n"
     ]
    }
   ],
   "source": [
    "import cv2\n",
    "import numpy as np\n",
    "\n",
    "# Load image\n",
    "image = cv2.imread('7.jpg')\n",
    "height, width, channels = image.shape \n",
    "print (\"height X width X channels : \", height, \"X\", width, \"X\", channels) \n",
    "print (\"Image shape : \", image.shape) \n",
    "print (\"Datatype: \", image.dtype) \n",
    "cv2.imshow('image',image)\n",
    "cv2.waitKey(0)\n",
    "cv2.destroyAllWindows()"
   ]
  },
  {
   "cell_type": "code",
   "execution_count": 8,
   "id": "30b26341-6e9b-4900-b2d9-75fb2844b30b",
   "metadata": {},
   "outputs": [
    {
     "name": "stdout",
     "output_type": "stream",
     "text": [
      "height X width X channels :  933 X 739 X 3\n",
      "Image shape :  (933, 739, 3)\n",
      "Datatype:  uint8\n"
     ]
    }
   ],
   "source": [
    "import cv2\n",
    "import numpy as np\n",
    "\n",
    "# Load image\n",
    "image = cv2.imread('8.jpg')\n",
    "height, width, channels = image.shape \n",
    "print (\"height X width X channels : \", height, \"X\", width, \"X\", channels) \n",
    "print (\"Image shape : \", image.shape) \n",
    "print (\"Datatype: \", image.dtype) \n",
    "cv2.imshow('image',image)\n",
    "cv2.waitKey(0)\n",
    "cv2.destroyAllWindows()"
   ]
  },
  {
   "cell_type": "code",
   "execution_count": 9,
   "id": "b62dab49-7f2c-407a-9245-b3c1467f71dc",
   "metadata": {},
   "outputs": [
    {
     "name": "stdout",
     "output_type": "stream",
     "text": [
      "height X width X channels :  2236 X 1921 X 3\n",
      "Image shape :  (2236, 1921, 3)\n",
      "Datatype:  uint8\n"
     ]
    }
   ],
   "source": [
    "import cv2\n",
    "import numpy as np\n",
    "\n",
    "# Load image\n",
    "image = cv2.imread('9.jpg')\n",
    "height, width, channels = image.shape \n",
    "print (\"height X width X channels : \", height, \"X\", width, \"X\", channels) \n",
    "print (\"Image shape : \", image.shape) \n",
    "print (\"Datatype: \", image.dtype) \n",
    "cv2.imshow('image',image)\n",
    "cv2.waitKey(0)\n",
    "cv2.destroyAllWindows()"
   ]
  },
  {
   "cell_type": "code",
   "execution_count": 10,
   "id": "e47e5ce2-5cee-46ff-b314-da70f9a5106a",
   "metadata": {},
   "outputs": [
    {
     "name": "stdout",
     "output_type": "stream",
     "text": [
      "height X width X channels :  2235 X 1921 X 3\n",
      "Image shape :  (2235, 1921, 3)\n",
      "Datatype:  uint8\n"
     ]
    }
   ],
   "source": [
    "import cv2\n",
    "import numpy as np\n",
    "\n",
    "# Load image\n",
    "image = cv2.imread('10.jpg')\n",
    "height, width, channels = image.shape \n",
    "print (\"height X width X channels : \", height, \"X\", width, \"X\", channels) \n",
    "print (\"Image shape : \", image.shape) \n",
    "print (\"Datatype: \", image.dtype) \n",
    "cv2.imshow('image',image)\n",
    "cv2.waitKey(0)\n",
    "cv2.destroyAllWindows()"
   ]
  },
  {
   "cell_type": "code",
   "execution_count": 11,
   "id": "01863353-4f16-44f3-bf23-1a086f5d408f",
   "metadata": {},
   "outputs": [
    {
     "name": "stdout",
     "output_type": "stream",
     "text": [
      "height X width X channels :  2231 X 1921 X 3\n",
      "Image shape :  (2231, 1921, 3)\n",
      "Datatype:  uint8\n"
     ]
    }
   ],
   "source": [
    "import cv2\n",
    "import numpy as np\n",
    "\n",
    "# Load image\n",
    "image = cv2.imread('11.jpg')\n",
    "height, width, channels = image.shape \n",
    "print (\"height X width X channels : \", height, \"X\", width, \"X\", channels) \n",
    "print (\"Image shape : \", image.shape) \n",
    "print (\"Datatype: \", image.dtype) \n",
    "cv2.imshow('image',image)\n",
    "cv2.waitKey(0)\n",
    "cv2.destroyAllWindows()"
   ]
  },
  {
   "cell_type": "code",
   "execution_count": 12,
   "id": "d94610ff-61c2-403a-9f8a-9a75f3f0289a",
   "metadata": {},
   "outputs": [
    {
     "name": "stdout",
     "output_type": "stream",
     "text": [
      "height X width X channels :  2232 X 1921 X 3\n",
      "Image shape :  (2232, 1921, 3)\n",
      "Datatype:  uint8\n"
     ]
    }
   ],
   "source": [
    "import cv2\n",
    "import numpy as np\n",
    "\n",
    "# Load image\n",
    "image = cv2.imread('12.jpg')\n",
    "height, width, channels = image.shape \n",
    "print (\"height X width X channels : \", height, \"X\", width, \"X\", channels) \n",
    "print (\"Image shape : \", image.shape) \n",
    "print (\"Datatype: \", image.dtype) \n",
    "cv2.imshow('image',image)\n",
    "cv2.waitKey(0)\n",
    "cv2.destroyAllWindows()"
   ]
  },
  {
   "cell_type": "code",
   "execution_count": 13,
   "id": "37dede6b-2a20-4919-85ec-13ca0dd408fb",
   "metadata": {},
   "outputs": [
    {
     "name": "stdout",
     "output_type": "stream",
     "text": [
      "height X width X channels :  2232 X 1921 X 3\n",
      "Image shape :  (2232, 1921, 3)\n",
      "Datatype:  uint8\n"
     ]
    }
   ],
   "source": [
    "import cv2\n",
    "import numpy as np\n",
    "\n",
    "# Load image\n",
    "image = cv2.imread('13.jpg')\n",
    "height, width, channels = image.shape 0\n",
    "print (\"height X width X channels : \", height, \"X\", width, \"X\", channels) \n",
    "print (\"Image shape : \", image.shape) \n",
    "print (\"Datatype: \", image.dtype) \n",
    "cv2.imshow('image',image)\n",
    "cv2.waitKey(0)\n",
    "cv2.destroyAllWindows()"
   ]
  },
  {
   "cell_type": "code",
   "execution_count": 14,
   "id": "92ab8266-7832-4cb9-8b06-a0f0bc5fa8b5",
   "metadata": {},
   "outputs": [
    {
     "name": "stdout",
     "output_type": "stream",
     "text": [
      "height X width X channels :  2234 X 1921 X 3\n",
      "Image shape :  (2234, 1921, 3)\n",
      "Datatype:  uint8\n"
     ]
    }
   ],
   "source": [
    "import cv2\n",
    "import numpy as np\n",
    "\n",
    "# Load image\n",
    "image = cv2.imread('14.jpg')\n",
    "height, width, channels = image.shape \n",
    "print (\"height X width X channels : \", height, \"X\", width, \"X\", channels) \n",
    "print (\"Image shape : \", image.shape) \n",
    "print (\"Datatype: \", image.dtype) \n",
    "cv2.imshow('image',image)\n",
    "cv2.waitKey(0)\n",
    "cv2.destroyAllWindows()"
   ]
  },
  {
   "cell_type": "code",
   "execution_count": null,
   "id": "3fbc4d9e-5bbe-4a7f-a302-4e1fb6d50ac8",
   "metadata": {},
   "outputs": [],
   "source": []
  }
 ],
 "metadata": {
  "kernelspec": {
   "display_name": "Python 3 (ipykernel)",
   "language": "python",
   "name": "python3"
  },
  "language_info": {
   "codemirror_mode": {
    "name": "ipython",
    "version": 3
   },
   "file_extension": ".py",
   "mimetype": "text/x-python",
   "name": "python",
   "nbconvert_exporter": "python",
   "pygments_lexer": "ipython3",
   "version": "3.12.7"
  }
 },
 "nbformat": 4,
 "nbformat_minor": 5
}
